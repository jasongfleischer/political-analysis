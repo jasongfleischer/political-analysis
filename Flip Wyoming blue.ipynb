{
 "cells": [
  {
   "cell_type": "code",
   "execution_count": 16,
   "metadata": {},
   "outputs": [
    {
     "name": "stdout",
     "output_type": "stream",
     "text": [
      "net Democratic migration required to flip Wyoming blue...\n",
      "the 2016 presidential election results: 52412\n",
      "the 2018 gubernatorial election results: 55504\n",
      "a presidential election with more normal D/R ratios(2012) at 2018 turnout: 57042\n",
      "a presidential election with 2016 ratios at 1.1x 2018 turnout: (worst case) 70436\n"
     ]
    }
   ],
   "source": [
    "# values copied from 270towin.com and Wikipedia elections pages for Wyoming\n",
    "turnout_2018 = 139809\n",
    "regVoters_2018 = 266464\n",
    "voteAgePop_2018 = 442832\n",
    "\n",
    "turnout_2016 = 114437\n",
    "regVoters_2016 = 210465\n",
    "voteAgePop_2016 = 447212\n",
    "\n",
    "voteRatioD_2018 = .277\n",
    "voteRatioR_2018 = .674\n",
    "voteRatioD_2016 = .216\n",
    "voteRatioR_2016 = .674\n",
    "voteRatioD_2012 = .278\n",
    "voteRatioR_2012 = .686\n",
    "\n",
    "\n",
    "print('net Democratic migration required to flip Wyoming blue...')\n",
    "print('the 2016 presidential election results: {:.0f}'.format((voteRatioR_2016 - voteRatioD_2016) * turnout_2016))\n",
    "print('the 2018 gubernatorial election results: {:.0f}'.format((voteRatioR_2018 - voteRatioD_2018) * turnout_2018))\n",
    "print('a presidential election with more normal D/R ratios(2012) at 2018 turnout: {:.0f}'.format((voteRatioR_2012 - voteRatioD_2012) * turnout_2018))\n",
    "print('a presidential election with 2016 ratios at 1.1x 2018 turnout: (worst case) {:.0f}'.format((voteRatioR_2016 - voteRatioD_2016) * turnout_2018 * 1.1))\n",
    "\n"
   ]
  },
  {
   "cell_type": "code",
   "execution_count": null,
   "metadata": {
    "collapsed": true
   },
   "outputs": [],
   "source": []
  }
 ],
 "metadata": {
  "kernelspec": {
   "display_name": "Python 2",
   "language": "python",
   "name": "python2"
  },
  "language_info": {
   "codemirror_mode": {
    "name": "ipython",
    "version": 2
   },
   "file_extension": ".py",
   "mimetype": "text/x-python",
   "name": "python",
   "nbconvert_exporter": "python",
   "pygments_lexer": "ipython2",
   "version": "2.7.15"
  }
 },
 "nbformat": 4,
 "nbformat_minor": 2
}
